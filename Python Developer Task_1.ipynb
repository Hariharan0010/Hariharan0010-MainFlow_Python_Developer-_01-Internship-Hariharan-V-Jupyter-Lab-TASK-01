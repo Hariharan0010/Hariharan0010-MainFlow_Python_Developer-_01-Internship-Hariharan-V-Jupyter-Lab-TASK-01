{
 "cells": [
  {
   "cell_type": "code",
   "execution_count": null,
   "id": "73956311-ded3-4605-ae13-28dc042a13e1",
   "metadata": {},
   "outputs": [],
   "source": [
    "#Task 1"
   ]
  },
  {
   "cell_type": "code",
   "execution_count": 5,
   "id": "d078a032-9a9d-4a02-bdf6-83ed67efbb92",
   "metadata": {},
   "outputs": [
    {
     "name": "stdout",
     "output_type": "stream",
     "text": [
      "Sum: 15 = 15\n",
      "Difference: 5 = 5\n",
      "Product: 50 = 50\n",
      "Quotient: 2.0 = 2.0\n",
      "Integer Quotient: 2 = 2\n",
      "Remainder: 0 = 0\n",
      "Exponentiation: 100000 = 100000\n"
     ]
    }
   ],
   "source": [
    "# Arithmetic operations script\n",
    "\n",
    "# Addition\n",
    "num1 = 10\n",
    "num2 = 5\n",
    "sum_result = num1 + num2\n",
    "print(\"Sum:\", num1 + num2 ,\"=\",sum_result)\n",
    "\n",
    "# Subtraction\n",
    "difference = num1 - num2\n",
    "print(\"Difference:\", num1-num2, \"=\", difference)\n",
    "\n",
    "# Multiplication\n",
    "product = num1 * num2\n",
    "print(\"Product:\", num1*num2 ,\"=\" ,product)\n",
    "\n",
    "# Division\n",
    "quotient = num1 / num2\n",
    "print(\"Quotient:\", num1 / num2 ,\"=\" ,quotient)\n",
    "\n",
    "# Integer Division (Floor division)\n",
    "integer_quotient = num1 // num2\n",
    "print(\"Integer Quotient:\", num1 // num2, \"=\" ,integer_quotient)\n",
    "\n",
    "# Modulus (Remainder)\n",
    "remainder = num1 % num2\n",
    "print(\"Remainder:\", num1 % num2 ,\"=\", remainder)\n",
    "\n",
    "# Exponentiation\n",
    "exponent = num1 ** num2\n",
    "print(\"Exponentiation:\", num1 ** num2, \"=\", exponent)\n"
   ]
  },
  {
   "cell_type": "code",
   "execution_count": 6,
   "id": "dd64f915-31bf-4f63-b0dd-967f4e0082f2",
   "metadata": {},
   "outputs": [
    {
     "name": "stdout",
     "output_type": "stream",
     "text": [
      "Concatenated String: Hello World\n",
      "Length of 'Hello': 5\n",
      "Sliced substring of 'Hello': ell\n",
      "Repeated 'World' three times: WorldWorldWorld\n",
      "My name is Alice and I am 30 years old.\n"
     ]
    }
   ],
   "source": [
    "# String manipulation script\n",
    "\n",
    "# Concatenation\n",
    "str1 = \"Hello\"\n",
    "str2 = \"World\"\n",
    "concatenated_str = str1 + \" \" + str2\n",
    "print(f\"Concatenated String: {concatenated_str}\")\n",
    "\n",
    "# Length of a string\n",
    "length_of_str1 = len(str1)\n",
    "print(f\"Length of '{str1}': {length_of_str1}\")\n",
    "\n",
    "# String slicing\n",
    "substring = str1[1:4]\n",
    "print(f\"Sliced substring of '{str1}': {substring}\")\n",
    "\n",
    "# String repetition\n",
    "repeated_str2 = str2 * 3\n",
    "print(f\"Repeated '{str2}' three times: {repeated_str2}\")\n",
    "\n",
    "# String formatting\n",
    "name = \"Alice\"\n",
    "age = 30\n",
    "formatted_str = f\"My name is {name} and I am {age} years old.\"\n",
    "print(formatted_str)\n"
   ]
  },
  {
   "cell_type": "code",
   "execution_count": 10,
   "id": "8f482a12-70b1-4b60-9fff-7e28d4d070b8",
   "metadata": {},
   "outputs": [
    {
     "name": "stdout",
     "output_type": "stream",
     "text": [
      "10 is greater than {b}\n",
      "Zero\n",
      "5  is the smallest\n"
     ]
    }
   ],
   "source": [
    "# Conditional statements script\n",
    "\n",
    "# If-else statement\n",
    "a = 10\n",
    "b = 5\n",
    "if a > b:\n",
    "    print(a ,\"is greater than {b}\")\n",
    "else:\n",
    "    print(b ,\"is greater than or equal to {a}\")\n",
    "\n",
    "# Nested if-else statement\n",
    "num = 0\n",
    "if num > 0:\n",
    "    print(\"Positive number\")\n",
    "elif num == 0:\n",
    "    print(\"Zero\")\n",
    "else:\n",
    "    print(\"Negative number\")\n",
    "\n",
    "# Using logical operators\n",
    "x = 5\n",
    "y = 7\n",
    "z = 10\n",
    "if x < y and x < z:\n",
    "    print(x,\" is the smallest\")\n",
    "elif y < x and y < z:\n",
    "    print(y,\" is the smallest\")\n",
    "else:\n",
    "    print(z ,\"is the smallest\")\n"
   ]
  },
  {
   "cell_type": "code",
   "execution_count": 8,
   "id": "9d776884-c954-4b2c-aa70-754d04aecd26",
   "metadata": {},
   "outputs": [
    {
     "name": "stdout",
     "output_type": "stream",
     "text": [
      "Printing numbers using a for loop:\n",
      "1\n",
      "2\n",
      "3\n",
      "4\n",
      "5\n"
     ]
    }
   ],
   "source": [
    "# For loop \n",
    "numbers = [1, 2, 3, 4, 5]\n",
    "print(\"Printing numbers using a for loop:\")\n",
    "for number in numbers:\n",
    "    print(number)\n"
   ]
  },
  {
   "cell_type": "code",
   "execution_count": 9,
   "id": "97527410-8054-4c18-aab5-2f85be241cb4",
   "metadata": {},
   "outputs": [
    {
     "name": "stdout",
     "output_type": "stream",
     "text": [
      "Countdown using a while loop:\n",
      "5\n",
      "4\n",
      "3\n",
      "2\n",
      "1\n"
     ]
    }
   ],
   "source": [
    "# While loop\n",
    "countdown = 5\n",
    "print(\"Countdown using a while loop:\")\n",
    "while countdown > 0:\n",
    "    print(countdown)\n",
    "    countdown -= 1\n"
   ]
  },
  {
   "cell_type": "code",
   "execution_count": 11,
   "id": "1bde43cb-a2bc-4049-986a-6aae366490bf",
   "metadata": {},
   "outputs": [
    {
     "name": "stdout",
     "output_type": "stream",
     "text": [
      "Addition of 10 and 5 is: 15\n",
      "Subtraction of 10 and 5 is: 5\n"
     ]
    }
   ],
   "source": [
    "# Function for addition\n",
    "def add_numbers(num1, num2):\n",
    "    return num1 + num2\n",
    "\n",
    "# Function for subtraction\n",
    "def subtract_numbers(num1, num2):\n",
    "    return num1 - num2\n",
    "\n",
    "# Main program to demonstrate the functions\n",
    "if __name__ == \"__main__\":\n",
    "    # Example usage of the functions\n",
    "    a = 10\n",
    "    b = 5\n",
    "    \n",
    "    # Addition\n",
    "    result_addition = add_numbers(a, b)\n",
    "    print(\"Addition of\", a ,\"and\", b ,\"is:\", result_addition)\n",
    "    \n",
    "    # Subtraction\n",
    "    result_subtraction = subtract_numbers(a, b)\n",
    "    print(\"Subtraction of\",a ,\"and\", b ,\"is:\", result_subtraction)\n"
   ]
  },
  {
   "cell_type": "code",
   "execution_count": 13,
   "id": "3ca05c75-3b03-409e-88ec-c9fca84b4cc5",
   "metadata": {},
   "outputs": [
    {
     "name": "stdout",
     "output_type": "stream",
     "text": [
      "Created list: [1, 2, 3, 4, 5]\n",
      "After append: [1, 2, 3, 4, 5, 6]\n",
      "After insert: [1, 2, 10, 3, 4, 5, 6]\n",
      "After remove: [1, 2, 10, 4, 5, 6]\n",
      "After deletion: [2, 10, 4, 5, 6]\n"
     ]
    }
   ],
   "source": [
    "# List operations \n",
    "\n",
    "# Creation\n",
    "my_list = [1, 2, 3, 4, 5]\n",
    "print(\"Created list:\", my_list)\n",
    "\n",
    "# Manipulation\n",
    "my_list.append(6)  # Adding an element to the end\n",
    "print(\"After append:\", my_list)\n",
    "\n",
    "my_list.insert(2, 10)  # Inserting element at a specific index\n",
    "print(\"After insert:\", my_list)\n",
    "\n",
    "my_list.remove(3)  # Removing an element by value\n",
    "print(\"After remove:\", my_list)\n",
    "\n",
    "# Deletion\n",
    "del my_list[0]  # Deleting an element by index\n",
    "print(\"After deletion:\", my_list)\n"
   ]
  },
  {
   "cell_type": "code",
   "execution_count": null,
   "id": "2a9fdd2d-04e5-4462-a955-3f9bfacc3099",
   "metadata": {},
   "outputs": [],
   "source": [
    "# Tuple operations example\n",
    "\n",
    "# Creation\n",
    "my_tuple = (1, 2, 3, 4, 5)\n",
    "print(\"Created tuple:\", my_tuple)\n",
    "\n",
    "# Manipulation (Tuples are immutable, so we can't change them directly)\n",
    "# Convert tuple to list for manipulation\n",
    "tuple_as_list = list(my_tuple)\n",
    "tuple_as_list.append(6)\n",
    "my_tuple = tuple(tuple_as_list)\n",
    "print(\"After append (converted to tuple):\", my_tuple)\n",
    "\n",
    "# Deletion (Since tuples are immutable, we cannot delete elements directly)\n",
    "# Convert tuple to list for deletion\n",
    "tuple_as_list = list(my_tuple)\n",
    "del tuple_as_list[0]\n",
    "my_tuple = tuple(tuple_as_list)\n",
    "print(\"After deletion (converted to tuple):\", my_tuple)\n"
   ]
  }
 ],
 "metadata": {
  "kernelspec": {
   "display_name": "Python 3 (ipykernel)",
   "language": "python",
   "name": "python3"
  },
  "language_info": {
   "codemirror_mode": {
    "name": "ipython",
    "version": 3
   },
   "file_extension": ".py",
   "mimetype": "text/x-python",
   "name": "python",
   "nbconvert_exporter": "python",
   "pygments_lexer": "ipython3",
   "version": "3.11.7"
  }
 },
 "nbformat": 4,
 "nbformat_minor": 5
}
